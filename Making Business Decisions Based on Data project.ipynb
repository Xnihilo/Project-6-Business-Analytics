{
 "cells": [
  {
   "cell_type": "markdown",
   "metadata": {},
   "source": [
    "---\n",
    "\n",
    "**<font color=\"green\">Reviewer's comment V3</font>**\n",
    "\n",
    "Hi, Raymond!\n",
    "\n",
    "You've worked hard and now your project is perfect!\n",
    "\n",
    "\n",
    "---\n"
   ]
  },
  {
   "cell_type": "markdown",
   "metadata": {},
   "source": [
    "---\n",
    "\n",
    "**<font color=\"green\">Reviewer's comment V2</font>**\n",
    "\n",
    "Raymond, hello!\n",
    "\n",
    "I really appreciate the corrections you sent in! Thanks for taking the time to do so.\n",
    "\n",
    "\n",
    "---\n"
   ]
  },
  {
   "cell_type": "markdown",
   "metadata": {},
   "source": [
    "---\n",
    "\n",
    "**<font color=\"green\">Reviewer's comment</font>**\n",
    "\n",
    "Hi, Raymond! You've done a really good job!\n",
    "\n",
    "My name is Yuliy Afanasoglu, I'll review your project.\n",
    "\n",
    "In the notebook you'll meet my comments in markdown cells with \"Reviewer's comment\" title.\n",
    "\n",
    "Please don't delete my comments. Great if you choose **<font color=\"blue\">visible color</font>**  or **text format** - It's easier for us to follow the corrections.\n",
    "\n",
    "---\n",
    "\n",
    "My comments look like:\n",
    "\n",
    "<div class=\"alert alert-block alert-danger\">\n",
    "    \n",
    "\n",
    "### Reviewer's comment\n",
    "\n",
    "This comment is required corrections - I can't accept project without it\n",
    "</div>\n",
    "    \n",
    "---\n",
    "\n",
    "<div class=\"alert alert-block alert-warning\">\n",
    "    \n",
    "\n",
    "### Reviewer's comment\n",
    "\n",
    "This comment correction is up to you - It is recommendation or advice for future\n",
    "    \n",
    "</div>\n",
    "\n",
    "---\n",
    "\n",
    "<div class=\"alert alert-block alert-success\">\n",
    "    \n",
    "\n",
    "### Reviewer's comment\n",
    "\n",
    "This comment indicates right and quality decision =)\n",
    "\n",
    "</div>\n",
    "\n",
    "---\n"
   ]
  },
  {
   "cell_type": "markdown",
   "metadata": {},
   "source": [
    "# Data Preprocessing"
   ]
  },
  {
   "cell_type": "markdown",
   "metadata": {},
   "source": [
    "---\n",
    "\n",
    "\n",
    "<div class=\"alert alert-block alert-danger\">\n",
    "    \n",
    "\n",
    "### Reviewer's comment\n",
    "    \n",
    "Oops! Something went wrong — let's take a look! I can't start to review your project. Your code doesn't run. Please fix it. \n",
    "    \n",
    "I recommend to use the `Kernel -> Restart & Run All` command before sending for review.\n",
    "    \n",
    "I looked through your project and found some points to make better your research:\n",
    "- define research title, description, scope, tasks and main goal at the beginning\n",
    "- highlight preprocessing section with main steps (missing values, data types, duplicates, and don’t forget conclusions)\n",
    "- add plot title and axis names to every graph\n",
    "- define null / alternative hypothesis to each hypothesis test\n",
    "- define conclusions at the end of each report chapter \n",
    "- don't forget that general conclusion at the end of the research contains information about all steps you've done\n",
    "- report customer wants to find business context at your general conclusion (not only declaration about statistical test results)\n",
    "\n",
    "\n",
    "    \n",
    "I believe you can easily fix it :)\n",
    "\n",
    "</div>\n",
    "\n",
    "---\n"
   ]
  },
  {
   "cell_type": "markdown",
   "metadata": {},
   "source": [
    "---\n",
    "\n",
    "\n",
    "<div class=\"alert alert-block alert-danger\">\n",
    "    \n",
    "\n",
    "### Reviewer's comment V2\n",
    "    \n",
    "This needs your attention:\n",
    "\n",
    "Please try to work with all red comments - it's very important. If they are not corrected - I can't accept your project.\n",
    "    \n",
    "Don't forget this point: `define research title, description, scope, tasks and main goal at the beginning`\n",
    "\n",
    "</div>\n",
    "\n",
    "---\n"
   ]
  },
  {
   "cell_type": "markdown",
   "metadata": {},
   "source": [
    ">don't forget that general conclusion at the end of the research contains information about all steps you've done\n",
    "\n",
    "***I'm not too sure what you mean by this part. Where should I be adding additional conclusions?***"
   ]
  },
  {
   "cell_type": "markdown",
   "metadata": {},
   "source": [
    "---\n",
    "\n",
    "\n",
    "<div class=\"alert alert-block alert-danger\">\n",
    "    \n",
    "\n",
    "### Reviewer's comment V2\n",
    "    \n",
    "I mean: all steps of your research should be reflected at general conclusion chapter: preprocessing, RICE / ICE Prioritizing, cumulative metrics research, etc - not only AB test results \n",
    "    \n",
    "General conclusions chapter is the mirror of your research - usually business customers read it first of all. \n",
    "\n",
    "</div>\n",
    "\n",
    "---\n"
   ]
  },
  {
   "cell_type": "markdown",
   "metadata": {},
   "source": [
    "# Analysis of Hypothesis Results on Revenue "
   ]
  },
  {
   "cell_type": "markdown",
   "metadata": {},
   "source": [
    "Together with the marketing department, a list of hypotheses ha been compiled that may help boost revenue.\n",
    "\n",
    "The hypotheses will need to be prioritzed, the results of the A/B test need to be analyzed with sufficient graphs to visualize the data and then analyze the statistical significance to see if there is a difference between the two groups.\n",
    "\n",
    "The main goal of this project is to determine if the hypotheses improve revenue between the two groups and then to consider adopting the changes."
   ]
  },
  {
   "cell_type": "markdown",
   "metadata": {},
   "source": [
    "---\n",
    "\n",
    "\n",
    "<div class=\"alert alert-block alert-success\">\n",
    "    \n",
    "\n",
    "### Reviewer's comment V3\n",
    "    \n",
    "Great improvement! \n",
    "\n",
    "</div>\n",
    "\n",
    "---\n"
   ]
  },
  {
   "cell_type": "code",
   "execution_count": 1,
   "metadata": {},
   "outputs": [],
   "source": [
    "import pandas as pd\n",
    "import datetime as dt\n",
    "import numpy as np\n",
    "import matplotlib.pyplot as plt\n",
    "import scipy.stats as stats"
   ]
  },
  {
   "cell_type": "code",
   "execution_count": 2,
   "metadata": {},
   "outputs": [],
   "source": [
    "hypothesis = pd.read_csv('/datasets/hypotheses_us.csv', sep=';')\n",
    "\n",
    "orders = pd.read_csv('/datasets/orders_us.csv',\n",
    "                    parse_dates=['date'])\n",
    "\n",
    "visits = pd.read_csv('/datasets/visits_us.csv',\n",
    "                     parse_dates=['date'])"
   ]
  },
  {
   "cell_type": "markdown",
   "metadata": {},
   "source": [
    "***Loaded the csv files with the correct data types***"
   ]
  },
  {
   "cell_type": "code",
   "execution_count": 3,
   "metadata": {},
   "outputs": [
    {
     "name": "stdout",
     "output_type": "stream",
     "text": [
      "<class 'pandas.core.frame.DataFrame'>\n",
      "RangeIndex: 9 entries, 0 to 8\n",
      "Data columns (total 5 columns):\n",
      "Hypothesis    9 non-null object\n",
      "Reach         9 non-null int64\n",
      "Impact        9 non-null int64\n",
      "Confidence    9 non-null int64\n",
      "Effort        9 non-null int64\n",
      "dtypes: int64(4), object(1)\n",
      "memory usage: 488.0+ bytes\n",
      "None\n"
     ]
    },
    {
     "data": {
      "text/html": [
       "<div>\n",
       "<style scoped>\n",
       "    .dataframe tbody tr th:only-of-type {\n",
       "        vertical-align: middle;\n",
       "    }\n",
       "\n",
       "    .dataframe tbody tr th {\n",
       "        vertical-align: top;\n",
       "    }\n",
       "\n",
       "    .dataframe thead th {\n",
       "        text-align: right;\n",
       "    }\n",
       "</style>\n",
       "<table border=\"1\" class=\"dataframe\">\n",
       "  <thead>\n",
       "    <tr style=\"text-align: right;\">\n",
       "      <th></th>\n",
       "      <th>Hypothesis</th>\n",
       "      <th>Reach</th>\n",
       "      <th>Impact</th>\n",
       "      <th>Confidence</th>\n",
       "      <th>Effort</th>\n",
       "    </tr>\n",
       "  </thead>\n",
       "  <tbody>\n",
       "    <tr>\n",
       "      <td>0</td>\n",
       "      <td>Add two new channels for attracting traffic. T...</td>\n",
       "      <td>3</td>\n",
       "      <td>10</td>\n",
       "      <td>8</td>\n",
       "      <td>6</td>\n",
       "    </tr>\n",
       "    <tr>\n",
       "      <td>1</td>\n",
       "      <td>Launch your own delivery service. This will sh...</td>\n",
       "      <td>2</td>\n",
       "      <td>5</td>\n",
       "      <td>4</td>\n",
       "      <td>10</td>\n",
       "    </tr>\n",
       "    <tr>\n",
       "      <td>2</td>\n",
       "      <td>Add product recommendation blocks to the store...</td>\n",
       "      <td>8</td>\n",
       "      <td>3</td>\n",
       "      <td>7</td>\n",
       "      <td>3</td>\n",
       "    </tr>\n",
       "    <tr>\n",
       "      <td>3</td>\n",
       "      <td>Change the category structure. This will incre...</td>\n",
       "      <td>8</td>\n",
       "      <td>3</td>\n",
       "      <td>3</td>\n",
       "      <td>8</td>\n",
       "    </tr>\n",
       "    <tr>\n",
       "      <td>4</td>\n",
       "      <td>Change the background color on the main page. ...</td>\n",
       "      <td>3</td>\n",
       "      <td>1</td>\n",
       "      <td>1</td>\n",
       "      <td>1</td>\n",
       "    </tr>\n",
       "    <tr>\n",
       "      <td>5</td>\n",
       "      <td>Add a customer review page. This will increase...</td>\n",
       "      <td>3</td>\n",
       "      <td>2</td>\n",
       "      <td>2</td>\n",
       "      <td>3</td>\n",
       "    </tr>\n",
       "    <tr>\n",
       "      <td>6</td>\n",
       "      <td>Show banners with current offers and sales on ...</td>\n",
       "      <td>5</td>\n",
       "      <td>3</td>\n",
       "      <td>8</td>\n",
       "      <td>3</td>\n",
       "    </tr>\n",
       "    <tr>\n",
       "      <td>7</td>\n",
       "      <td>Add a subscription form to all the main pages....</td>\n",
       "      <td>10</td>\n",
       "      <td>7</td>\n",
       "      <td>8</td>\n",
       "      <td>5</td>\n",
       "    </tr>\n",
       "    <tr>\n",
       "      <td>8</td>\n",
       "      <td>Launch a promotion that gives users discounts ...</td>\n",
       "      <td>1</td>\n",
       "      <td>9</td>\n",
       "      <td>9</td>\n",
       "      <td>5</td>\n",
       "    </tr>\n",
       "  </tbody>\n",
       "</table>\n",
       "</div>"
      ],
      "text/plain": [
       "                                          Hypothesis  Reach  Impact  \\\n",
       "0  Add two new channels for attracting traffic. T...      3      10   \n",
       "1  Launch your own delivery service. This will sh...      2       5   \n",
       "2  Add product recommendation blocks to the store...      8       3   \n",
       "3  Change the category structure. This will incre...      8       3   \n",
       "4  Change the background color on the main page. ...      3       1   \n",
       "5  Add a customer review page. This will increase...      3       2   \n",
       "6  Show banners with current offers and sales on ...      5       3   \n",
       "7  Add a subscription form to all the main pages....     10       7   \n",
       "8  Launch a promotion that gives users discounts ...      1       9   \n",
       "\n",
       "   Confidence  Effort  \n",
       "0           8       6  \n",
       "1           4      10  \n",
       "2           7       3  \n",
       "3           3       8  \n",
       "4           1       1  \n",
       "5           2       3  \n",
       "6           8       3  \n",
       "7           8       5  \n",
       "8           9       5  "
      ]
     },
     "execution_count": 3,
     "metadata": {},
     "output_type": "execute_result"
    }
   ],
   "source": [
    "#Open hypothesis and analyze what's inside\n",
    "print(hypothesis.info())\n",
    "hypothesis"
   ]
  },
  {
   "cell_type": "code",
   "execution_count": 4,
   "metadata": {},
   "outputs": [
    {
     "name": "stdout",
     "output_type": "stream",
     "text": [
      "<class 'pandas.core.frame.DataFrame'>\n",
      "RangeIndex: 1197 entries, 0 to 1196\n",
      "Data columns (total 5 columns):\n",
      "transactionId    1197 non-null int64\n",
      "visitorId        1197 non-null int64\n",
      "date             1197 non-null datetime64[ns]\n",
      "revenue          1197 non-null float64\n",
      "group            1197 non-null object\n",
      "dtypes: datetime64[ns](1), float64(1), int64(2), object(1)\n",
      "memory usage: 46.9+ KB\n",
      "None\n"
     ]
    },
    {
     "data": {
      "text/html": [
       "<div>\n",
       "<style scoped>\n",
       "    .dataframe tbody tr th:only-of-type {\n",
       "        vertical-align: middle;\n",
       "    }\n",
       "\n",
       "    .dataframe tbody tr th {\n",
       "        vertical-align: top;\n",
       "    }\n",
       "\n",
       "    .dataframe thead th {\n",
       "        text-align: right;\n",
       "    }\n",
       "</style>\n",
       "<table border=\"1\" class=\"dataframe\">\n",
       "  <thead>\n",
       "    <tr style=\"text-align: right;\">\n",
       "      <th></th>\n",
       "      <th>transactionId</th>\n",
       "      <th>visitorId</th>\n",
       "      <th>date</th>\n",
       "      <th>revenue</th>\n",
       "      <th>group</th>\n",
       "    </tr>\n",
       "  </thead>\n",
       "  <tbody>\n",
       "    <tr>\n",
       "      <td>0</td>\n",
       "      <td>3667963787</td>\n",
       "      <td>3312258926</td>\n",
       "      <td>2019-08-15</td>\n",
       "      <td>30.4</td>\n",
       "      <td>B</td>\n",
       "    </tr>\n",
       "    <tr>\n",
       "      <td>1</td>\n",
       "      <td>2804400009</td>\n",
       "      <td>3642806036</td>\n",
       "      <td>2019-08-15</td>\n",
       "      <td>15.2</td>\n",
       "      <td>B</td>\n",
       "    </tr>\n",
       "    <tr>\n",
       "      <td>2</td>\n",
       "      <td>2961555356</td>\n",
       "      <td>4069496402</td>\n",
       "      <td>2019-08-15</td>\n",
       "      <td>10.2</td>\n",
       "      <td>A</td>\n",
       "    </tr>\n",
       "    <tr>\n",
       "      <td>3</td>\n",
       "      <td>3797467345</td>\n",
       "      <td>1196621759</td>\n",
       "      <td>2019-08-15</td>\n",
       "      <td>155.1</td>\n",
       "      <td>B</td>\n",
       "    </tr>\n",
       "    <tr>\n",
       "      <td>4</td>\n",
       "      <td>2282983706</td>\n",
       "      <td>2322279887</td>\n",
       "      <td>2019-08-15</td>\n",
       "      <td>40.5</td>\n",
       "      <td>B</td>\n",
       "    </tr>\n",
       "    <tr>\n",
       "      <td>...</td>\n",
       "      <td>...</td>\n",
       "      <td>...</td>\n",
       "      <td>...</td>\n",
       "      <td>...</td>\n",
       "      <td>...</td>\n",
       "    </tr>\n",
       "    <tr>\n",
       "      <td>1192</td>\n",
       "      <td>2662137336</td>\n",
       "      <td>3733762160</td>\n",
       "      <td>2019-08-14</td>\n",
       "      <td>100.8</td>\n",
       "      <td>B</td>\n",
       "    </tr>\n",
       "    <tr>\n",
       "      <td>1193</td>\n",
       "      <td>2203539145</td>\n",
       "      <td>370388673</td>\n",
       "      <td>2019-08-14</td>\n",
       "      <td>50.1</td>\n",
       "      <td>A</td>\n",
       "    </tr>\n",
       "    <tr>\n",
       "      <td>1194</td>\n",
       "      <td>1807773912</td>\n",
       "      <td>573423106</td>\n",
       "      <td>2019-08-14</td>\n",
       "      <td>165.3</td>\n",
       "      <td>A</td>\n",
       "    </tr>\n",
       "    <tr>\n",
       "      <td>1195</td>\n",
       "      <td>1947021204</td>\n",
       "      <td>1614305549</td>\n",
       "      <td>2019-08-14</td>\n",
       "      <td>5.5</td>\n",
       "      <td>A</td>\n",
       "    </tr>\n",
       "    <tr>\n",
       "      <td>1196</td>\n",
       "      <td>3936777065</td>\n",
       "      <td>2108080724</td>\n",
       "      <td>2019-08-15</td>\n",
       "      <td>3120.1</td>\n",
       "      <td>B</td>\n",
       "    </tr>\n",
       "  </tbody>\n",
       "</table>\n",
       "<p>1197 rows × 5 columns</p>\n",
       "</div>"
      ],
      "text/plain": [
       "      transactionId   visitorId       date  revenue group\n",
       "0        3667963787  3312258926 2019-08-15     30.4     B\n",
       "1        2804400009  3642806036 2019-08-15     15.2     B\n",
       "2        2961555356  4069496402 2019-08-15     10.2     A\n",
       "3        3797467345  1196621759 2019-08-15    155.1     B\n",
       "4        2282983706  2322279887 2019-08-15     40.5     B\n",
       "...             ...         ...        ...      ...   ...\n",
       "1192     2662137336  3733762160 2019-08-14    100.8     B\n",
       "1193     2203539145   370388673 2019-08-14     50.1     A\n",
       "1194     1807773912   573423106 2019-08-14    165.3     A\n",
       "1195     1947021204  1614305549 2019-08-14      5.5     A\n",
       "1196     3936777065  2108080724 2019-08-15   3120.1     B\n",
       "\n",
       "[1197 rows x 5 columns]"
      ]
     },
     "execution_count": 4,
     "metadata": {},
     "output_type": "execute_result"
    }
   ],
   "source": [
    "#Open orders and examine the contents\n",
    "print(orders.info())\n",
    "orders"
   ]
  },
  {
   "cell_type": "code",
   "execution_count": 5,
   "metadata": {},
   "outputs": [
    {
     "name": "stdout",
     "output_type": "stream",
     "text": [
      "       visitorId  group\n",
      "487   2038680547      8\n",
      "569   2378935119      9\n",
      "591   2458001652     11\n",
      "1023  4256040402     11\n",
      "     transactionId   visitorId       date  revenue group\n",
      "577     3932236947  2038680547 2019-08-04     45.1     B\n",
      "578     1570911533  2038680547 2019-08-04     25.5     A\n",
      "605     1215730747  2038680547 2019-08-04     40.1     A\n",
      "32      3666913472  2038680547 2019-08-15     30.8     B\n",
      "227     4267573899  2038680547 2019-08-17     55.4     A\n",
      "117      722060263  2038680547 2019-08-22     15.7     A\n",
      "390     2415738512  2038680547 2019-08-25      5.2     A\n",
      "624     1666104258  2038680547 2019-08-29     40.2     B\n",
      "\n",
      "      transactionId   visitorId       date  revenue group\n",
      "697      1612868255  2378935119 2019-08-09    475.5     B\n",
      "1029      469609643  2378935119 2019-08-10    900.7     A\n",
      "1031     1661772358  2378935119 2019-08-10     45.6     B\n",
      "33        486237576  2378935119 2019-08-15     30.4     A\n",
      "179      1784270968  2378935119 2019-08-17      5.8     A\n",
      "118      4233533907  2378935119 2019-08-22     55.2     A\n",
      "391      2213813903  2378935119 2019-08-25    330.5     B\n",
      "435      2430683444  2378935119 2019-08-28    315.6     B\n",
      "473      3224706027  2378935119 2019-08-28     70.8     B\n",
      "\n",
      "      transactionId   visitorId       date  revenue group\n",
      "611      1244084011  2458001652 2019-08-04     10.2     A\n",
      "883      2412219836  2458001652 2019-08-05     40.2     B\n",
      "454      3755354294  2458001652 2019-08-06    115.1     B\n",
      "456       543654048  2458001652 2019-08-06     25.9     A\n",
      "483      2280027650  2458001652 2019-08-06    105.8     B\n",
      "727      3959083601  2458001652 2019-08-07    270.4     A\n",
      "916       527333943  2458001652 2019-08-08     85.4     B\n",
      "692      3586870909  2458001652 2019-08-09     85.4     B\n",
      "1062     1817215137  2458001652 2019-08-11    130.4     A\n",
      "133      3060563671  2458001652 2019-08-22     80.8     A\n",
      "380      1177690313  2458001652 2019-08-25     40.7     B\n",
      "\n",
      "      transactionId   visitorId       date  revenue group\n",
      "114      1120327437  4256040402 2019-08-01     90.2     A\n",
      "873      2519737434  4256040402 2019-08-08    900.7     B\n",
      "1091      750632879  4256040402 2019-08-12      5.8     A\n",
      "60       1421016313  4256040402 2019-08-16    875.5     B\n",
      "187      2048878902  4256040402 2019-08-17     25.8     A\n",
      "263      2575861846  4256040402 2019-08-18    170.8     B\n",
      "588      3700356838  4256040402 2019-08-20    275.5     A\n",
      "253      1610091760  4256040402 2019-08-23    265.8     A\n",
      "901      3402467119  4256040402 2019-08-27     30.1     A\n",
      "1018     1415970216  4256040402 2019-08-31     80.5     A\n",
      "1019      453824282  4256040402 2019-08-31     30.5     B\n"
     ]
    }
   ],
   "source": [
    "#Examine orders to see if there's any abnormal users\n",
    "both_group = orders.groupby('visitorId').agg({'group':'count'}).reset_index()\n",
    "print(both_group[both_group['group']>5])\n",
    "\n",
    "#Examine the users who had many group switches\n",
    "print(orders[orders['visitorId']==2038680547].sort_values(by='date'))\n",
    "print()\n",
    "print(orders[orders['visitorId']==2378935119].sort_values(by='date'))\n",
    "print()\n",
    "print(orders[orders['visitorId']==2458001652].sort_values(by='date'))\n",
    "print()\n",
    "print(orders[orders['visitorId']==4256040402].sort_values(by='date'))\n",
    "\n",
    "\n",
    "#Remove users who had many group switches\n",
    "filtered_orders = orders.query(\n",
    "    'visitorId!=\"2038680547\" & visitorId!=\"2378935119\" & visitorId!=\"2458001652\" & visitorId!=\"4256040402\"')"
   ]
  },
  {
   "cell_type": "code",
   "execution_count": 6,
   "metadata": {},
   "outputs": [
    {
     "name": "stdout",
     "output_type": "stream",
     "text": [
      "<class 'pandas.core.frame.DataFrame'>\n",
      "RangeIndex: 62 entries, 0 to 61\n",
      "Data columns (total 3 columns):\n",
      "date      62 non-null datetime64[ns]\n",
      "group     62 non-null object\n",
      "visits    62 non-null int64\n",
      "dtypes: datetime64[ns](1), int64(1), object(1)\n",
      "memory usage: 1.6+ KB\n",
      "None\n"
     ]
    },
    {
     "data": {
      "text/html": [
       "<div>\n",
       "<style scoped>\n",
       "    .dataframe tbody tr th:only-of-type {\n",
       "        vertical-align: middle;\n",
       "    }\n",
       "\n",
       "    .dataframe tbody tr th {\n",
       "        vertical-align: top;\n",
       "    }\n",
       "\n",
       "    .dataframe thead th {\n",
       "        text-align: right;\n",
       "    }\n",
       "</style>\n",
       "<table border=\"1\" class=\"dataframe\">\n",
       "  <thead>\n",
       "    <tr style=\"text-align: right;\">\n",
       "      <th></th>\n",
       "      <th>date</th>\n",
       "      <th>group</th>\n",
       "      <th>visits</th>\n",
       "    </tr>\n",
       "  </thead>\n",
       "  <tbody>\n",
       "    <tr>\n",
       "      <td>0</td>\n",
       "      <td>2019-08-01</td>\n",
       "      <td>A</td>\n",
       "      <td>719</td>\n",
       "    </tr>\n",
       "    <tr>\n",
       "      <td>1</td>\n",
       "      <td>2019-08-02</td>\n",
       "      <td>A</td>\n",
       "      <td>619</td>\n",
       "    </tr>\n",
       "    <tr>\n",
       "      <td>2</td>\n",
       "      <td>2019-08-03</td>\n",
       "      <td>A</td>\n",
       "      <td>507</td>\n",
       "    </tr>\n",
       "    <tr>\n",
       "      <td>3</td>\n",
       "      <td>2019-08-04</td>\n",
       "      <td>A</td>\n",
       "      <td>717</td>\n",
       "    </tr>\n",
       "    <tr>\n",
       "      <td>4</td>\n",
       "      <td>2019-08-05</td>\n",
       "      <td>A</td>\n",
       "      <td>756</td>\n",
       "    </tr>\n",
       "    <tr>\n",
       "      <td>...</td>\n",
       "      <td>...</td>\n",
       "      <td>...</td>\n",
       "      <td>...</td>\n",
       "    </tr>\n",
       "    <tr>\n",
       "      <td>57</td>\n",
       "      <td>2019-08-27</td>\n",
       "      <td>B</td>\n",
       "      <td>720</td>\n",
       "    </tr>\n",
       "    <tr>\n",
       "      <td>58</td>\n",
       "      <td>2019-08-28</td>\n",
       "      <td>B</td>\n",
       "      <td>654</td>\n",
       "    </tr>\n",
       "    <tr>\n",
       "      <td>59</td>\n",
       "      <td>2019-08-29</td>\n",
       "      <td>B</td>\n",
       "      <td>531</td>\n",
       "    </tr>\n",
       "    <tr>\n",
       "      <td>60</td>\n",
       "      <td>2019-08-30</td>\n",
       "      <td>B</td>\n",
       "      <td>490</td>\n",
       "    </tr>\n",
       "    <tr>\n",
       "      <td>61</td>\n",
       "      <td>2019-08-31</td>\n",
       "      <td>B</td>\n",
       "      <td>718</td>\n",
       "    </tr>\n",
       "  </tbody>\n",
       "</table>\n",
       "<p>62 rows × 3 columns</p>\n",
       "</div>"
      ],
      "text/plain": [
       "         date group  visits\n",
       "0  2019-08-01     A     719\n",
       "1  2019-08-02     A     619\n",
       "2  2019-08-03     A     507\n",
       "3  2019-08-04     A     717\n",
       "4  2019-08-05     A     756\n",
       "..        ...   ...     ...\n",
       "57 2019-08-27     B     720\n",
       "58 2019-08-28     B     654\n",
       "59 2019-08-29     B     531\n",
       "60 2019-08-30     B     490\n",
       "61 2019-08-31     B     718\n",
       "\n",
       "[62 rows x 3 columns]"
      ]
     },
     "execution_count": 6,
     "metadata": {},
     "output_type": "execute_result"
    }
   ],
   "source": [
    "#Open visits and examine the contents\n",
    "print(visits.info())\n",
    "visits"
   ]
  },
  {
   "cell_type": "markdown",
   "metadata": {},
   "source": [
    "***Data Preprocessing Conclusion***\n",
    "\n",
    "Decided to check for users who switched too often between A and B groups and then removed them since it would negatively affect the results of the A/B test. Overall the data appears to be ready for analysis."
   ]
  },
  {
   "cell_type": "markdown",
   "metadata": {},
   "source": [
    "---\n",
    "\n",
    "\n",
    "<div class=\"alert alert-block alert-success\">\n",
    "    \n",
    "\n",
    "### Reviewer's comment V2\n",
    "    \n",
    "It's a great idea to explore abnormal users\n",
    "    \n",
    "Don't forget about duplicates\n",
    "\n",
    "</div>\n",
    "\n",
    "---\n"
   ]
  },
  {
   "cell_type": "markdown",
   "metadata": {},
   "source": [
    "# Part 1. Prioritizing Hypotheses"
   ]
  },
  {
   "cell_type": "markdown",
   "metadata": {},
   "source": [
    "### Apply the ICE framework to prioritize hypotheses. Sort them in descending order of priority."
   ]
  },
  {
   "cell_type": "code",
   "execution_count": 7,
   "metadata": {},
   "outputs": [
    {
     "data": {
      "text/html": [
       "<div>\n",
       "<style scoped>\n",
       "    .dataframe tbody tr th:only-of-type {\n",
       "        vertical-align: middle;\n",
       "    }\n",
       "\n",
       "    .dataframe tbody tr th {\n",
       "        vertical-align: top;\n",
       "    }\n",
       "\n",
       "    .dataframe thead th {\n",
       "        text-align: right;\n",
       "    }\n",
       "</style>\n",
       "<table border=\"1\" class=\"dataframe\">\n",
       "  <thead>\n",
       "    <tr style=\"text-align: right;\">\n",
       "      <th></th>\n",
       "      <th>Hypothesis</th>\n",
       "      <th>ICE</th>\n",
       "    </tr>\n",
       "  </thead>\n",
       "  <tbody>\n",
       "    <tr>\n",
       "      <td>8</td>\n",
       "      <td>Launch a promotion that gives users discounts ...</td>\n",
       "      <td>16.200000</td>\n",
       "    </tr>\n",
       "    <tr>\n",
       "      <td>0</td>\n",
       "      <td>Add two new channels for attracting traffic. T...</td>\n",
       "      <td>13.333333</td>\n",
       "    </tr>\n",
       "    <tr>\n",
       "      <td>7</td>\n",
       "      <td>Add a subscription form to all the main pages....</td>\n",
       "      <td>11.200000</td>\n",
       "    </tr>\n",
       "    <tr>\n",
       "      <td>6</td>\n",
       "      <td>Show banners with current offers and sales on ...</td>\n",
       "      <td>8.000000</td>\n",
       "    </tr>\n",
       "    <tr>\n",
       "      <td>2</td>\n",
       "      <td>Add product recommendation blocks to the store...</td>\n",
       "      <td>7.000000</td>\n",
       "    </tr>\n",
       "    <tr>\n",
       "      <td>1</td>\n",
       "      <td>Launch your own delivery service. This will sh...</td>\n",
       "      <td>2.000000</td>\n",
       "    </tr>\n",
       "    <tr>\n",
       "      <td>5</td>\n",
       "      <td>Add a customer review page. This will increase...</td>\n",
       "      <td>1.333333</td>\n",
       "    </tr>\n",
       "    <tr>\n",
       "      <td>3</td>\n",
       "      <td>Change the category structure. This will incre...</td>\n",
       "      <td>1.125000</td>\n",
       "    </tr>\n",
       "    <tr>\n",
       "      <td>4</td>\n",
       "      <td>Change the background color on the main page. ...</td>\n",
       "      <td>1.000000</td>\n",
       "    </tr>\n",
       "  </tbody>\n",
       "</table>\n",
       "</div>"
      ],
      "text/plain": [
       "                                          Hypothesis        ICE\n",
       "8  Launch a promotion that gives users discounts ...  16.200000\n",
       "0  Add two new channels for attracting traffic. T...  13.333333\n",
       "7  Add a subscription form to all the main pages....  11.200000\n",
       "6  Show banners with current offers and sales on ...   8.000000\n",
       "2  Add product recommendation blocks to the store...   7.000000\n",
       "1  Launch your own delivery service. This will sh...   2.000000\n",
       "5  Add a customer review page. This will increase...   1.333333\n",
       "3  Change the category structure. This will incre...   1.125000\n",
       "4  Change the background color on the main page. ...   1.000000"
      ]
     },
     "execution_count": 7,
     "metadata": {},
     "output_type": "execute_result"
    }
   ],
   "source": [
    "#Calculate the ICE amount\n",
    "hypothesis['ICE'] = (hypothesis['Impact'] * hypothesis['Confidence']) / hypothesis['Effort']\n",
    "hypothesis[['Hypothesis','ICE']].sort_values(by='ICE', ascending=False)"
   ]
  },
  {
   "cell_type": "markdown",
   "metadata": {},
   "source": [
    "***The hypothesis to launch a promotion has the greatest result while changing the background color of the main page won't affect the results much.***"
   ]
  },
  {
   "cell_type": "markdown",
   "metadata": {},
   "source": [
    "### Apply the RICE framework to prioritize hypotheses. Sort them in descending order of priority."
   ]
  },
  {
   "cell_type": "code",
   "execution_count": 8,
   "metadata": {},
   "outputs": [
    {
     "data": {
      "text/html": [
       "<div>\n",
       "<style scoped>\n",
       "    .dataframe tbody tr th:only-of-type {\n",
       "        vertical-align: middle;\n",
       "    }\n",
       "\n",
       "    .dataframe tbody tr th {\n",
       "        vertical-align: top;\n",
       "    }\n",
       "\n",
       "    .dataframe thead th {\n",
       "        text-align: right;\n",
       "    }\n",
       "</style>\n",
       "<table border=\"1\" class=\"dataframe\">\n",
       "  <thead>\n",
       "    <tr style=\"text-align: right;\">\n",
       "      <th></th>\n",
       "      <th>Hypothesis</th>\n",
       "      <th>RICE</th>\n",
       "    </tr>\n",
       "  </thead>\n",
       "  <tbody>\n",
       "    <tr>\n",
       "      <td>7</td>\n",
       "      <td>Add a subscription form to all the main pages....</td>\n",
       "      <td>112.0</td>\n",
       "    </tr>\n",
       "    <tr>\n",
       "      <td>2</td>\n",
       "      <td>Add product recommendation blocks to the store...</td>\n",
       "      <td>56.0</td>\n",
       "    </tr>\n",
       "    <tr>\n",
       "      <td>0</td>\n",
       "      <td>Add two new channels for attracting traffic. T...</td>\n",
       "      <td>40.0</td>\n",
       "    </tr>\n",
       "    <tr>\n",
       "      <td>6</td>\n",
       "      <td>Show banners with current offers and sales on ...</td>\n",
       "      <td>40.0</td>\n",
       "    </tr>\n",
       "    <tr>\n",
       "      <td>8</td>\n",
       "      <td>Launch a promotion that gives users discounts ...</td>\n",
       "      <td>16.2</td>\n",
       "    </tr>\n",
       "    <tr>\n",
       "      <td>3</td>\n",
       "      <td>Change the category structure. This will incre...</td>\n",
       "      <td>9.0</td>\n",
       "    </tr>\n",
       "    <tr>\n",
       "      <td>1</td>\n",
       "      <td>Launch your own delivery service. This will sh...</td>\n",
       "      <td>4.0</td>\n",
       "    </tr>\n",
       "    <tr>\n",
       "      <td>5</td>\n",
       "      <td>Add a customer review page. This will increase...</td>\n",
       "      <td>4.0</td>\n",
       "    </tr>\n",
       "    <tr>\n",
       "      <td>4</td>\n",
       "      <td>Change the background color on the main page. ...</td>\n",
       "      <td>3.0</td>\n",
       "    </tr>\n",
       "  </tbody>\n",
       "</table>\n",
       "</div>"
      ],
      "text/plain": [
       "                                          Hypothesis   RICE\n",
       "7  Add a subscription form to all the main pages....  112.0\n",
       "2  Add product recommendation blocks to the store...   56.0\n",
       "0  Add two new channels for attracting traffic. T...   40.0\n",
       "6  Show banners with current offers and sales on ...   40.0\n",
       "8  Launch a promotion that gives users discounts ...   16.2\n",
       "3  Change the category structure. This will incre...    9.0\n",
       "1  Launch your own delivery service. This will sh...    4.0\n",
       "5  Add a customer review page. This will increase...    4.0\n",
       "4  Change the background color on the main page. ...    3.0"
      ]
     },
     "execution_count": 8,
     "metadata": {},
     "output_type": "execute_result"
    }
   ],
   "source": [
    "#Calculate the RICE amount\n",
    "hypothesis['RICE'] = (hypothesis['Reach'] * hypothesis['Impact'] * hypothesis['Confidence']) / hypothesis['Effort']\n",
    "hypothesis[['Hypothesis','RICE']].sort_values(by='RICE', ascending=False)"
   ]
  },
  {
   "cell_type": "markdown",
   "metadata": {},
   "source": [
    "***Adding a subscription page to all main pages will have the most effect with the RICE framework while changing the background color of the main page still has little to no effect.***"
   ]
  },
  {
   "cell_type": "markdown",
   "metadata": {},
   "source": [
    "### Show how the prioritization of hypotheses changes when you use RICE instead of ICE. Provide an explanation for the changes."
   ]
  },
  {
   "cell_type": "markdown",
   "metadata": {},
   "source": [
    "Examining the results of ICE and RICE shows that what has the most results vary if the 'reach' variable is considered.\n",
    "\n",
    "If the 'reach' variable isn't considered, then the hypothesis of launching a new promotion will have the most impact, but if 'reach' is considered, then adding a new subscription form will have the most results. \n",
    "\n",
    "Though the hypotheses require the same amount of effort, the variable 'reach' can cause a significant change in how the results of the hypotheses will play out. "
   ]
  },
  {
   "cell_type": "markdown",
   "metadata": {},
   "source": [
    "---\n",
    "\n",
    "\n",
    "<div class=\"alert alert-block alert-success\">\n",
    "    \n",
    "\n",
    "### Reviewer's comment V2\n",
    "    \n",
    "Correct conclusion and correct explanation of ICE / RICE framework  prioritization winner \n",
    "\n",
    "</div>\n",
    "\n",
    "---\n"
   ]
  },
  {
   "cell_type": "markdown",
   "metadata": {},
   "source": [
    "# Part 2. A/B Test Analysis"
   ]
  },
  {
   "cell_type": "markdown",
   "metadata": {},
   "source": [
    "### Graph cumulative revenue by group. Make conclusions and conjectures."
   ]
  },
  {
   "cell_type": "code",
   "execution_count": 9,
   "metadata": {
    "scrolled": false
   },
   "outputs": [
    {
     "name": "stderr",
     "output_type": "stream",
     "text": [
      "/opt/conda/lib/python3.7/site-packages/pandas/plotting/_matplotlib/converter.py:103: FutureWarning: Using an implicitly registered datetime converter for a matplotlib plotting method. The converter was registered by pandas on import. Future versions of pandas will require you to explicitly register matplotlib converters.\n",
      "\n",
      "To register the converters:\n",
      "\t>>> from pandas.plotting import register_matplotlib_converters\n",
      "\t>>> register_matplotlib_converters()\n",
      "  warnings.warn(msg, FutureWarning)\n"
     ]
    },
    {
     "data": {
      "image/png": "[encoded data removed]",
      "text/plain": [
       "<Figure size 1152x360 with 1 Axes>"
      ]
     },
     "metadata": {
      "needs_background": "light"
     },
     "output_type": "display_data"
    }
   ],
   "source": [
    "#Create date groups\n",
    "datesGroups = orders[['date','group']].drop_duplicates()\n",
    "\n",
    "#Aggregate the orders and visitors\n",
    "ordersAggregated = datesGroups.apply(\n",
    "lambda x: filtered_orders[np.logical_and(filtered_orders['date'] <= x['date'], filtered_orders['group'] == x['group'])].agg({\n",
    "'date' : 'max',\n",
    "'group' : 'max',\n",
    "'transactionId' : pd.Series.nunique,\n",
    "'visitorId' : pd.Series.nunique,\n",
    "'revenue' : 'sum'}), axis=1).sort_values(by=['date','group'])\n",
    "\n",
    "visitorsAggregated = datesGroups.apply(\n",
    "lambda x: visits[np.logical_and(visits['date'] <= x['date'], visits['group'] == x['group'])].agg({\n",
    "'date' : 'max',\n",
    "'group' : 'max',\n",
    "'visits' : 'sum'}), axis=1).sort_values(by=['date','group'])\n",
    "\n",
    "#Merge the aggregated data and rename the columns\n",
    "cumulativeData = ordersAggregated.merge(visitorsAggregated, left_on=['date', 'group'], right_on=['date', 'group'])\n",
    "cumulativeData.columns = ['date', 'group', 'orders', 'buyers', 'revenue', 'visitors']\n",
    "\n",
    "#Seperate the cumulative data into the respective groups\n",
    "cumulativeRevenueA = cumulativeData[cumulativeData['group']=='A'][['date','revenue', 'orders']]\n",
    "cumulativeRevenueB = cumulativeData[cumulativeData['group']=='B'][['date','revenue', 'orders']]\n",
    "\n",
    "#Create the line graph of the difference in revenue between the two groups\n",
    "plt.figure(figsize=(16,5))\n",
    "plt.title('Cumulative Revenue by Group')\n",
    "plt.xlabel('Date')\n",
    "plt.ylabel('Revenue')\n",
    "plt.plot(cumulativeRevenueA['date'], cumulativeRevenueA['revenue'], label='A')\n",
    "plt.plot(cumulativeRevenueB['date'], cumulativeRevenueB['revenue'], label='B')\n",
    "plt.legend();"
   ]
  },
  {
   "cell_type": "markdown",
   "metadata": {},
   "source": [
    "---\n",
    "\n",
    "<div class=\"alert alert-block alert-warning\">\n",
    "    \n",
    "\n",
    "### Комментарий от ревьюера\n",
    "\n",
    "It would be helpful:\n",
    "- to use \";\" symbol at the of your code to avoid `<matplotlib.legend.Legend at 0x7f2947adb410>`. I added it in the previous cell \n",
    "    \n",
    "</div>\n",
    "\n",
    "---\n"
   ]
  },
  {
   "cell_type": "markdown",
   "metadata": {},
   "source": [
    "Groups A and B start off similarly for about a week, but Group B has a sharp increase in revenue that caused it to take the lead. Additional analysis needs to be done on Group B in order to evaluate the sudden jump in orders.\n",
    "\n",
    "Both groups overall seems to share the same amount of growth in revenue. "
   ]
  },
  {
   "cell_type": "markdown",
   "metadata": {},
   "source": [
    "---\n",
    "\n",
    "\n",
    "<div class=\"alert alert-block alert-warning\">\n",
    "    \n",
    "\n",
    "### Reviewer's comment V2\n",
    "    \n",
    "Nice graph (great that you don't forget title and axis names). Good conclusion. \n",
    "    \n",
    "How can you explain the anomaly?\n",
    "\n",
    "</div>\n",
    "\n",
    "---\n"
   ]
  },
  {
   "cell_type": "markdown",
   "metadata": {},
   "source": [
    "### Graph cumulative average order size by group. Make conclusions and conjectures."
   ]
  },
  {
   "cell_type": "code",
   "execution_count": 10,
   "metadata": {},
   "outputs": [
    {
     "data": {
      "image/png": "[encoded data removed]",
      "text/plain": [
       "<Figure size 1152x360 with 1 Axes>"
      ]
     },
     "metadata": {
      "needs_background": "light"
     },
     "output_type": "display_data"
    }
   ],
   "source": [
    "#Create the line graph of the average order size between the two groups\n",
    "plt.figure(figsize=(16,5))\n",
    "plt.title('Cumulative Average Order Size by Group')\n",
    "plt.xlabel('Date')\n",
    "plt.ylabel('Order Size')\n",
    "plt.plot(cumulativeRevenueA['date'], cumulativeRevenueA['revenue']/cumulativeRevenueA['orders'], label='A')\n",
    "plt.plot(cumulativeRevenueB['date'], cumulativeRevenueB['revenue']/cumulativeRevenueB['orders'], label='B')\n",
    "plt.legend();"
   ]
  },
  {
   "cell_type": "markdown",
   "metadata": {},
   "source": [
    "Group A starts off with more orders at first, then fluctuates a bit but flattens out to a consistent amount towards the end. \n",
    "\n",
    "Group B starts off with less orders, but then plateaus off after a bit, then has a sharp increase of orders, and then plateaus off again at the new peak. Again, analysis needs to be done to see what the sudden increase of orders means."
   ]
  },
  {
   "cell_type": "markdown",
   "metadata": {},
   "source": [
    "---\n",
    "\n",
    "\n",
    "<div class=\"alert alert-block alert-warning\">\n",
    "    \n",
    "\n",
    "### Reviewer's comment V2\n",
    "    \n",
    "Correct graph description! \n",
    "    \n",
    "Could you make an assumption about anomaly?\n",
    "    \n",
    "What can you say about data behavior at the second part of the time period?\n",
    "\n",
    "</div>\n",
    "\n",
    "---\n"
   ]
  },
  {
   "cell_type": "markdown",
   "metadata": {},
   "source": [
    "### Graph the relative difference in cumulative average order size for group B compared with group A. Make conclusions and conjectures."
   ]
  },
  {
   "cell_type": "code",
   "execution_count": 11,
   "metadata": {},
   "outputs": [
    {
     "data": {
      "image/png": "[encoded data removed]",
      "text/plain": [
       "<Figure size 1152x360 with 1 Axes>"
      ]
     },
     "metadata": {
      "needs_background": "light"
     },
     "output_type": "display_data"
    }
   ],
   "source": [
    "#Merge the two groups together \n",
    "mergedCumulativeRevenue = cumulativeRevenueA.merge(\n",
    "    cumulativeRevenueB, left_on='date', right_on='date', how='left', suffixes=['A', 'B'])\n",
    "\n",
    "#Create a line graph of the relative differences in order sizes for group B\n",
    "plt.figure(figsize=(16,5))\n",
    "plt.title('Cumulative Average Order for Group B compared with Group A')\n",
    "plt.xlabel('Date')\n",
    "plt.ylabel('Average Order Size')\n",
    "plt.plot(mergedCumulativeRevenue['date'], (\n",
    "    mergedCumulativeRevenue['revenueB']/mergedCumulativeRevenue['ordersB'])/(\n",
    "    mergedCumulativeRevenue['revenueA']/mergedCumulativeRevenue['ordersA'])-1)\n",
    "\n",
    "plt.axhline(y=0, color='black', linestyle='--');"
   ]
  },
  {
   "cell_type": "markdown",
   "metadata": {},
   "source": [
    "Average order size of Group B compared with Group A shows that it sharply increased in the beginning, then suddenly fell off, but then rose sharply again. The sharp changes in orders might be due to the large increase of orders. "
   ]
  },
  {
   "cell_type": "markdown",
   "metadata": {},
   "source": [
    "### Calculate each group's conversion rate as the ratio of orders to the number of visits for each day. \n",
    "\n",
    "### Plot the daily conversion rates of the two groups and describe the difference. Draw conclusions and make conjectures."
   ]
  },
  {
   "cell_type": "code",
   "execution_count": 12,
   "metadata": {},
   "outputs": [
    {
     "data": {
      "image/png": "[encoded data removed]",
      "text/plain": [
       "<Figure size 1152x360 with 1 Axes>"
      ]
     },
     "metadata": {
      "needs_background": "light"
     },
     "output_type": "display_data"
    }
   ],
   "source": [
    "#Create a new column for conversion and then split the data into their groups\n",
    "cumulativeData['conversion'] = cumulativeData['orders']/cumulativeData['visitors']\n",
    "cumulativeDataA = cumulativeData[cumulativeData['group']=='A']\n",
    "cumulativeDataB = cumulativeData[cumulativeData['group']=='B']\n",
    "\n",
    "#Plot a line graph to show the conversion rates for the two groups\n",
    "plt.figure(figsize=(16,5))\n",
    "plt.title('Daily Conversion Rates of the Two Groups')\n",
    "plt.xlabel('Date')\n",
    "plt.ylabel('Conversion Rate')\n",
    "plt.plot(cumulativeDataA['date'], cumulativeDataA['conversion'], label='A')\n",
    "plt.plot(cumulativeDataB['date'], cumulativeDataB['conversion'], label='B')\n",
    "plt.axis([None, None, 0, 0.05])\n",
    "plt.legend();\n"
   ]
  },
  {
   "cell_type": "markdown",
   "metadata": {},
   "source": [
    "At the start, Group A had a better conversion rate than Group B, but Group B caught up quickly and started to hold the lead for conversion rate. \n",
    "\n",
    "I decided to set the y axis in order to show that the conversion rates do stabilize and don't fluctuate that much."
   ]
  },
  {
   "cell_type": "markdown",
   "metadata": {},
   "source": [
    "---\n",
    "\n",
    "\n",
    "<div class=\"alert alert-block alert-success\">\n",
    "    \n",
    "\n",
    "### Reviewer's comment V2\n",
    "    \n",
    "Great! Proper conclusion about rates stabilization!\n",
    "    \n",
    "Pay attention to the Y axis name - a little mix-up there  \n",
    "\n",
    "</div>\n",
    "\n",
    "---\n"
   ]
  },
  {
   "cell_type": "markdown",
   "metadata": {},
   "source": [
    "### Plot a scatter chart of the number of orders per user. Make conclusions and conjectures."
   ]
  },
  {
   "cell_type": "code",
   "execution_count": 13,
   "metadata": {},
   "outputs": [
    {
     "data": {
      "image/png": "[encoded data removed]",
      "text/plain": [
       "<Figure size 1152x360 with 1 Axes>"
      ]
     },
     "metadata": {
      "needs_background": "light"
     },
     "output_type": "display_data"
    }
   ],
   "source": [
    "#Drop the columns not needed to focus on the orders per user data\n",
    "ordersByUsers = filtered_orders.drop(['group', 'revenue', 'date'], axis=1).groupby(\n",
    "    'visitorId', as_index=False).agg({'transactionId' : pd.Series.nunique})\n",
    "ordersByUsers.columns = ['userId','orders']\n",
    "\n",
    "#Plot Scatterplot\n",
    "x_values = pd.Series(range(0,len(ordersByUsers)))\n",
    "plt.figure(figsize=(16,5))\n",
    "plt.title('Number of Orders per User')\n",
    "plt.xlabel('UserID')\n",
    "plt.ylabel('Average Order Size')\n",
    "plt.scatter(x_values, ordersByUsers['orders']);"
   ]
  },
  {
   "cell_type": "markdown",
   "metadata": {},
   "source": [
    "Many users make 1 or 2 orders, and only a couple make 3 or more orders. It appears that orders are 4 or more are outliers."
   ]
  },
  {
   "cell_type": "markdown",
   "metadata": {},
   "source": [
    "### Calculate the 95th and 99th percentiles for the number of orders per user. Define the point at which a data point becomes an anomaly."
   ]
  },
  {
   "cell_type": "code",
   "execution_count": 14,
   "metadata": {},
   "outputs": [
    {
     "name": "stdout",
     "output_type": "stream",
     "text": [
      "[2. 3.]\n"
     ]
    }
   ],
   "source": [
    "#Calculate the 95th and 99th percentile\n",
    "print(np.percentile(ordersByUsers['orders'], [95, 99]))"
   ]
  },
  {
   "cell_type": "markdown",
   "metadata": {},
   "source": [
    "Examining the 95th and 99th percentiles shows that 5% of the users make 2 orders while only 1% of the users make 3 or more orders. It would seem that any orders that are 3 or more can be considered to be an anomaly."
   ]
  },
  {
   "cell_type": "markdown",
   "metadata": {},
   "source": [
    "### Plot a scatter chart of order prices. Make conclusions and conjectures."
   ]
  },
  {
   "cell_type": "code",
   "execution_count": 15,
   "metadata": {},
   "outputs": [
    {
     "data": {
      "image/png": "[encoded data removed]",
      "text/plain": [
       "<Figure size 1152x360 with 1 Axes>"
      ]
     },
     "metadata": {
      "needs_background": "light"
     },
     "output_type": "display_data"
    }
   ],
   "source": [
    "#Plot scatter plot\n",
    "x_values = pd.Series(range(0,len(filtered_orders['revenue'])))\n",
    "plt.figure(figsize=(16,5))\n",
    "plt.title('Order Prices')\n",
    "plt.xlabel('UserID')\n",
    "plt.ylabel('Average Order Price')\n",
    "plt.scatter(x_values, filtered_orders['revenue']);"
   ]
  },
  {
   "cell_type": "markdown",
   "metadata": {},
   "source": [
    "Examining the scatter plot of the order prices, it seems clear that order prices above 2500 are rare, and the one order price at 20000 to be a clear outlier."
   ]
  },
  {
   "cell_type": "markdown",
   "metadata": {},
   "source": [
    "### Calculate the 95th and 99th percentiles of order prices. Define the point at which a data point becomes an anomaly.\n"
   ]
  },
  {
   "cell_type": "code",
   "execution_count": 16,
   "metadata": {},
   "outputs": [
    {
     "name": "stdout",
     "output_type": "stream",
     "text": [
      "[425.815 862.765]\n"
     ]
    }
   ],
   "source": [
    "#Calculate the 95th and 99th percentile\n",
    "print(np.percentile(filtered_orders['revenue'], [95, 99]))"
   ]
  },
  {
   "cell_type": "markdown",
   "metadata": {},
   "source": [
    "Examining the 95th and 99th percentiles shows that 5% of the users make orders that are 425.815 while only 1% of the users make order prices at 862.765. It seems that order prices at 862.765 or more can be considered to be outliers."
   ]
  },
  {
   "cell_type": "markdown",
   "metadata": {},
   "source": [
    "---\n",
    "\n",
    "\n",
    "<div class=\"alert alert-block alert-success\">\n",
    "    \n",
    "\n",
    "### Reviewer's comment V2\n",
    "    \n",
    "Good work with anomaly!\n",
    "    \n",
    "Abnormal users are defined.\n",
    "    \n",
    "It's also helpful to use histogram and boxplot for anomaly research\n",
    "    \n",
    "\n",
    "</div>\n",
    "\n",
    "---\n"
   ]
  },
  {
   "cell_type": "markdown",
   "metadata": {},
   "source": [
    "### Find the statistical significance of the difference in conversion between the groups using the raw data. Make conclusions and conjectures.\n"
   ]
  },
  {
   "cell_type": "markdown",
   "metadata": {},
   "source": [
    "***Null Hypothesis: Group A and Group B have similar conversion rates***\n",
    "\n",
    "***Alt Hypothesis: Group A and Group B have do not have similar conversion rates***"
   ]
  },
  {
   "cell_type": "markdown",
   "metadata": {},
   "source": [
    "---\n",
    "\n",
    "\n",
    "<div class=\"alert alert-block alert-success\">\n",
    "    \n",
    "\n",
    "### Reviewer's comment V2\n",
    "    \n",
    "Well done! Thank you for hypothesis definition!\n",
    "\n",
    "</div>\n",
    "\n",
    "---\n"
   ]
  },
  {
   "cell_type": "code",
   "execution_count": 17,
   "metadata": {},
   "outputs": [
    {
     "name": "stdout",
     "output_type": "stream",
     "text": [
      "The p-value to compare the groups conversion is: 0.00816\n",
      "The relative difference in conversion gain for B is: 0.149\n",
      "\n",
      "Null hypothesis rejected: the difference is statistically significant\n"
     ]
    }
   ],
   "source": [
    "#Seperate the data into their respective groups and relabel their columns\n",
    "ordersByUsersA = filtered_orders[filtered_orders['group']=='A'].groupby(\n",
    "    'visitorId', as_index=False).agg({'transactionId' : pd.Series.nunique})\n",
    "ordersByUsersA.columns = ['visitorId', 'orders']\n",
    "\n",
    "ordersByUsersB = filtered_orders[filtered_orders['group']=='B'].groupby(\n",
    "    'visitorId', as_index=False).agg({'transactionId' : pd.Series.nunique})\n",
    "ordersByUsersB.columns = ['visitorId', 'orders']\n",
    "\n",
    "\n",
    "#Calculate the conversion rates between the two groups\n",
    "sampleA = pd.concat([ordersByUsersA['orders'],pd.Series(0, index=np.arange(\n",
    "    visits[visits['group']=='A']['visits'].sum() - len(ordersByUsersA['orders'])), name='orders')],axis=0)\n",
    "\n",
    "sampleB = pd.concat([ordersByUsersB['orders'],pd.Series(0, index=np.arange(\n",
    "    visits[visits['group']=='B']['visits'].sum() - len(ordersByUsersB['orders'])), name='orders')],axis=0)\n",
    "\n",
    "#Calculate the p-value and relative conversion rate gain for group B\n",
    "print('The p-value to compare the groups conversion is:',\"{0:.5f}\".format(stats.mannwhitneyu(sampleA, sampleB)[1]))\n",
    "print('The relative difference in conversion gain for B is:',\"{0:.3f}\".format(sampleB.mean()/sampleA.mean()-1))\n",
    "\n",
    "print()\n",
    "#P-value results\n",
    "alpha = .05\n",
    "\n",
    "if (stats.mannwhitneyu(sampleA, sampleB)[1] < alpha):\n",
    "    print(\"Null hypothesis rejected: the difference is statistically significant\")\n",
    "else:\n",
    "    print(\"Failed to reject the null hypothesis: we can't make conclusions about the difference\")"
   ]
  },
  {
   "cell_type": "markdown",
   "metadata": {},
   "source": [
    "By looking at the results here, the p-value is much lower than 0.05 so the null hypothesis is rejected. Also, group b has a conversion gain of 14.9% compared to group a."
   ]
  },
  {
   "cell_type": "markdown",
   "metadata": {},
   "source": [
    "### Find the statistical significance of the difference in average order size between the groups using the raw data. Make conclusions and conjectures.\n"
   ]
  },
  {
   "cell_type": "markdown",
   "metadata": {},
   "source": [
    "***Null Hypothesis: Group A and Group B have similar average order sizes***\n",
    "\n",
    "***Alt Hypothesis: Group A and Group B have do not have similar average order sizes***"
   ]
  },
  {
   "cell_type": "code",
   "execution_count": 18,
   "metadata": {},
   "outputs": [
    {
     "name": "stdout",
     "output_type": "stream",
     "text": [
      "The p-value to compare the groups conversion is: 0.480\n",
      "The relative difference in conversion gain for B is: 0.235\n",
      "\n",
      "Failed to reject the null hypothesis: we can't make conclusions about the difference\n"
     ]
    }
   ],
   "source": [
    "#Calculate the p-value and relative conversion rate gain for group B\n",
    "print('The p-value to compare the groups conversion is:',\n",
    "      \"{0:.3f}\".format(stats.mannwhitneyu(filtered_orders[filtered_orders['group']=='A']['revenue'],\n",
    "                                          filtered_orders[filtered_orders['group']=='B']['revenue'])[1]))\n",
    "print('The relative difference in conversion gain for B is:',\n",
    "      \"{0:.3f}\".format(filtered_orders[filtered_orders['group']=='B']['revenue'].mean()/\n",
    "                       filtered_orders[filtered_orders['group']=='A']['revenue'].mean()-1))\n",
    "\n",
    "print()\n",
    "#P-value results\n",
    "alpha = .05\n",
    "\n",
    "if (stats.mannwhitneyu(filtered_orders[filtered_orders['group']=='A']['revenue'],\n",
    "                                          filtered_orders[filtered_orders['group']=='B']['revenue'])[1] < alpha):\n",
    "    print(\"Null hypothesis rejected: the difference is statistically significant\")\n",
    "else:\n",
    "    print(\"Failed to reject the null hypothesis: we can't make conclusions about the difference\")"
   ]
  },
  {
   "cell_type": "markdown",
   "metadata": {},
   "source": [
    "The p-value calculated here is less than 0.05, so there is a statistical difference between the two groups in their average order sizes. The relative difference between group b and group a is 23.5%."
   ]
  },
  {
   "cell_type": "markdown",
   "metadata": {},
   "source": [
    "### Find the statistical significance of the difference in conversion between the groups using the filtered data. Make conclusions and conjectures.\n"
   ]
  },
  {
   "cell_type": "markdown",
   "metadata": {},
   "source": [
    "***Null Hypothesis: Group A and Group B have similar conversion rates using the filtered data***\n",
    "\n",
    "***Alt Hypothesis: Group A and Group B have do not have similar conversion rates using the filtered data***"
   ]
  },
  {
   "cell_type": "markdown",
   "metadata": {},
   "source": [
    "---\n",
    "\n",
    "\n",
    "<div class=\"alert alert-block alert-success\">\n",
    "    \n",
    "\n",
    "### Reviewer's comment V2\n",
    "    \n",
    "It's cool that you clarify hypothesis phrase with \"filtered\" term. Very helpful to define all necessary / sufficient info in hypothesis phrase.\n",
    "</div>\n",
    "\n",
    "---\n"
   ]
  },
  {
   "cell_type": "code",
   "execution_count": 19,
   "metadata": {},
   "outputs": [
    {
     "name": "stdout",
     "output_type": "stream",
     "text": [
      "The p-value to compare the groups conversion is: 0.00410\n",
      "The relative difference in conversion gain for B is: 0.182\n",
      "\n",
      "Null hypothesis rejected: the difference is statistically significant\n"
     ]
    }
   ],
   "source": [
    "#Isolate the outliers\n",
    "usersWithManyOrders = pd.concat([ordersByUsersA[ordersByUsersA['orders'] >= 3]['visitorId'], \n",
    "                                 ordersByUsersB[ordersByUsersB['orders'] >= 3]['visitorId']], axis = 0)\n",
    "usersWithExpensiveOrders = filtered_orders[filtered_orders['revenue'] > 800]['visitorId']\n",
    "\n",
    "abnormalUsers = pd.concat([usersWithManyOrders, usersWithExpensiveOrders], axis = 0).drop_duplicates().sort_values()\n",
    "\n",
    "\n",
    "#Filter the data to remove outliers\n",
    "sampleAFiltered = pd.concat([ordersByUsersA[np.logical_not(ordersByUsersA['visitorId'].isin(\n",
    "    abnormalUsers))]['orders'],pd.Series(0, index=np.arange(\n",
    "    visits[visits['group']=='A']['visits'].sum() - len(ordersByUsersA['orders'])),name='orders')],axis=0)\n",
    "\n",
    "sampleBFiltered = pd.concat([ordersByUsersB[np.logical_not(ordersByUsersB['visitorId'].isin(\n",
    "    abnormalUsers))]['orders'],pd.Series(0, index=np.arange(\n",
    "    visits[visits['group']=='B']['visits'].sum() - len(ordersByUsersB['orders'])),name='orders')],axis=0)\n",
    "\n",
    "print('The p-value to compare the groups conversion is:',\n",
    "      \"{0:.5f}\".format(stats.mannwhitneyu(sampleAFiltered, sampleBFiltered)[1]))\n",
    "print('The relative difference in conversion gain for B is:',\n",
    "      \"{0:.3f}\".format(sampleBFiltered.mean()/sampleAFiltered.mean()-1))\n",
    "\n",
    "print()\n",
    "#P-value results\n",
    "alpha = .05\n",
    "\n",
    "if (stats.mannwhitneyu(sampleAFiltered, sampleBFiltered)[1] < alpha):\n",
    "    print(\"Null hypothesis rejected: the difference is statistically significant\")\n",
    "else:\n",
    "    print(\"Failed to reject the null hypothesis: we can't make conclusions about the difference\")"
   ]
  },
  {
   "cell_type": "markdown",
   "metadata": {},
   "source": [
    "After filtering the data and finding the p-value and the relative difference between the groups, it appears that the null hypothesis is rejected still. The relative difference between the groups shows that there is a gain for group b by 18.2%."
   ]
  },
  {
   "cell_type": "markdown",
   "metadata": {},
   "source": [
    "### Find the statistical significance of the difference in average order size between the groups using the filtered data. Make conclusions and conjectures.\n"
   ]
  },
  {
   "cell_type": "markdown",
   "metadata": {},
   "source": [
    "***Null Hypothesis: Group A and Group B have similar average order sizes using the filtered data***\n",
    "\n",
    "***Alt Hypothesis: Group A and Group B have do not have similar average order sizes using the filtered data***"
   ]
  },
  {
   "cell_type": "code",
   "execution_count": 20,
   "metadata": {},
   "outputs": [
    {
     "name": "stdout",
     "output_type": "stream",
     "text": [
      "The p-value to compare the groups conversion is: 0.494\n",
      "The relative difference in conversion gain for B is: 0.018\n",
      "\n",
      "Failed to reject the null hypothesis: we can't make conclusions about the difference\n"
     ]
    }
   ],
   "source": [
    "#Calculate the p-value and relative conversion rate gain for group B with the filtered data\n",
    "print('The p-value to compare the groups conversion is:',\"{0:.3f}\".format(stats.mannwhitneyu(\n",
    "    filtered_orders[np.logical_and(\n",
    "        filtered_orders['group']=='A',\n",
    "        np.logical_not(filtered_orders['visitorId'].isin(abnormalUsers)))]['revenue'],\n",
    "    filtered_orders[np.logical_and(\n",
    "        filtered_orders['group']=='B',\n",
    "        np.logical_not(filtered_orders['visitorId'].isin(abnormalUsers)))]['revenue'])[1]))\n",
    "\n",
    "print('The relative difference in conversion gain for B is:',\"{0:.3f}\".format(\n",
    "    filtered_orders[np.logical_and(filtered_orders['group']=='B',np.logical_not(filtered_orders['visitorId'].isin(\n",
    "        abnormalUsers)))]['revenue'].mean()/filtered_orders[np.logical_and(\n",
    "        filtered_orders['group']=='A',\n",
    "        np.logical_not(filtered_orders['visitorId'].isin(abnormalUsers)))]['revenue'].mean() - 1))\n",
    "\n",
    "print()\n",
    "#P-value results\n",
    "alpha = .05\n",
    "\n",
    "if (stats.mannwhitneyu(\n",
    "    filtered_orders[np.logical_and(\n",
    "        filtered_orders['group']=='A',\n",
    "        np.logical_not(filtered_orders['visitorId'].isin(abnormalUsers)))]['revenue'],\n",
    "    filtered_orders[np.logical_and(\n",
    "        filtered_orders['group']=='B',\n",
    "        np.logical_not(filtered_orders['visitorId'].isin(abnormalUsers)))]['revenue'])[1] < alpha):\n",
    "    print(\"Null hypothesis rejected: the difference is statistically significant\")\n",
    "else:\n",
    "    print(\"Failed to reject the null hypothesis: we can't make conclusions about the difference\")"
   ]
  },
  {
   "cell_type": "markdown",
   "metadata": {},
   "source": [
    "After removing the anomolies in the data, the p-value is still less than 0.05 so there is a statistical difference between the groups' average order sizes. The relative difference has decreased to only 1.8% gain for group b compared to group a."
   ]
  },
  {
   "cell_type": "markdown",
   "metadata": {},
   "source": [
    "---\n",
    "\n",
    "\n",
    "<div class=\"alert alert-block alert-success\">\n",
    "    \n",
    "\n",
    "### Reviewer's comment V2\n",
    "    \n",
    "Amazing! Your statistical tests are performed correctly!  \n",
    "\n",
    "</div>\n",
    "\n",
    "---\n"
   ]
  },
  {
   "cell_type": "markdown",
   "metadata": {},
   "source": [
    "### Make a decision based on the test results. The possible decisions are: \n",
    "\n",
    "1. Stop the test, consider one of the groups the leader. \n",
    "\n",
    "2. Stop the test, conclude that there is no difference between the groups. \n",
    "\n",
    "3. Continue the test.\n"
   ]
  },
  {
   "cell_type": "markdown",
   "metadata": {},
   "source": [
    "After examining the conclusions provided by the data, I would choose option 1: Stop the test, consider one of the groups the leader. \n",
    "\n",
    "Since there is a statistically difference between the two groups and that group b is the clear leader. From this point, I would suggest to move onto the next hypothesis in order to come up with further conclusions. "
   ]
  },
  {
   "cell_type": "markdown",
   "metadata": {},
   "source": [
    "***General Conclusion***\n",
    "\n",
    "The raw data with the hypotheses result, the order results and visits results needed to be assigned to the correct value types in order to be ready to be analyzed. The orders results also had a couple of odd customers who switched between the two groups too often, so removing them was the best option in order to not affect the results of the test. \n",
    "\n",
    "Examining both the ICE and RICE frameworks for the hypotheses seem to show that 'Add a subscription form to all the main pages', 'Add two new channels for attracting traffic', 'Add a subscription form to all the main pages' are all weighted well and should increase revenue. \n",
    "\n",
    "After analyzing the data between the two groups, A and B, it is shown that group B has a higher average order size and a higher average conversion rate. Group B had a sudden increase in order size and revenue that is due to a user who placed an irregularly large order. Further visualization of the data still shows that group B to have a clear advantage over group A in order sizes and conversion rates.\n",
    "\n",
    "***Recommendation***\n",
    "\n",
    "I would suggest to the customer that the best option would be to adopt the changes done to group B. Group B showed a 18.2% increase in conversion rate and a 1.8% increase in order sizes compared to group A. Furthermore, the hypthoeses 'Add a subscription form to all the main pages' and 'Add a subscription form to all the main pages' have a noticable impact on revenue gain for group B. With those hypotheses in mind, I would recommend the customer to adopt those changes onto the main site. "
   ]
  },
  {
   "cell_type": "markdown",
   "metadata": {},
   "source": [
    "---\n",
    "\n",
    "\n",
    "<div class=\"alert alert-block alert-danger\">\n",
    "    \n",
    "\n",
    "### Reviewer's comment V2\n",
    "\n",
    "As I mentioned above all steps of your research should be reflected at general conclusion chapter: preprocessing, RICE / ICE Prioritizing, cumulative metrics research, etc - not only AB test results \n",
    "    \n",
    "I didn't find at your general conclusion what to do with the AB test further and what is the result - add more business context to the conclusion, highlight \"Recommendation section\"\n",
    "\n",
    "</div>\n",
    "\n",
    "---\n"
   ]
  },
  {
   "cell_type": "markdown",
   "metadata": {},
   "source": [
    "---\n",
    "\n",
    "\n",
    "<div class=\"alert alert-block alert-success\">\n",
    "    \n",
    "\n",
    "### Reviewer's comment V3\n",
    "    \n",
    "You’ve made excellent progress! Proper conclusion and recommendation\n",
    "\n",
    "</div>\n",
    "\n",
    "---\n"
   ]
  },
  {
   "cell_type": "markdown",
   "metadata": {},
   "source": [
    "\n",
    "\n",
    "<div class=\"alert alert-block alert-warning\">\n",
    "    \n",
    "\n",
    "### General reviewer's comment V2\n",
    "\n",
    "You did such a good job!\n",
    "    \n",
    "You perform correct computations, build good looking plots, write correct conclusions.\n",
    "    \n",
    "I've found some tiny mistakes in your project (see my comments above). \n",
    "    \n",
    "    \n",
    "They'll be easy to fix.\n",
    "    \n",
    "</div>\n",
    "\n",
    "---\n"
   ]
  },
  {
   "cell_type": "markdown",
   "metadata": {},
   "source": [
    "---\n",
    "\n",
    "<div class=\"alert alert-block alert-success\">\n",
    "    \n",
    "\n",
    "### General reviewer's comment V3\n",
    "\n",
    "Your project has passed code review. Congratulations!\n",
    "    \n",
    "Keep up the good work.\n",
    "    \n",
    "</div>\n",
    "\n",
    "---\n"
   ]
  }
 ],
 "metadata": {
  "kernelspec": {
   "display_name": "Python 3",
   "language": "python",
   "name": "python3"
  },
  "language_info": {
   "codemirror_mode": {
    "name": "ipython",
    "version": 3
   },
   "file_extension": ".py",
   "mimetype": "text/x-python",
   "name": "python",
   "nbconvert_exporter": "python",
   "pygments_lexer": "ipython3",
   "version": "3.7.6"
  }
 },
 "nbformat": 4,
 "nbformat_minor": 2
}
